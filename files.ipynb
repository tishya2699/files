{
  "nbformat": 4,
  "nbformat_minor": 0,
  "metadata": {
    "colab": {
      "provenance": []
    },
    "kernelspec": {
      "name": "python3",
      "display_name": "Python 3"
    },
    "language_info": {
      "name": "python"
    }
  },
  "cells": [
    {
      "cell_type": "markdown",
      "source": [
        "1. What is the difference between interpreted and compiled languages\n",
        " - The difference between interpreted and compiled languages lies in how their code is executed by a computer.\n",
        "2. What is exception handling in Python\n",
        " - Exception handling in Python is a mechanism to gracefully handle runtime errors and unexpected situations that occur during the execution of a program. Instead of crashing, the program can catch these errors, take appropriate actions, and continue executing.\n",
        "3. What is the purpose of the finally block in exception handling\n",
        " - The finally block in exception handling is used to ensure that a specific block of code is always executed, regardless of whether an exception was raised or not. It is commonly used for cleanup tasks that must be performed no matter the outcome of the try block.\n",
        "4. What is logging in Python\n",
        " - Logging in Python is a way to track events that happen when a program runs. These events are recorded in a log, which can be used to debug programs, monitor applications, and maintain records of program execution. Python's built-in logging module provides a flexible and standardized way to implement logging.\n",
        "5. What is the significance of the __del__ method in Python\n",
        " - The __del__ method in Python is a special (or magic) method that acts as a destructor. It is called when an object is about to be destroyed, allowing you to perform cleanup operations, such as releasing resources or finalizing tasks.\n",
        "6. What is the difference between import and from ... import in Python\n",
        " - in Python, the import and from ... import statements are used to include modules and access their functionality. However, they differ in how they import and access the contents of the module.\n",
        "7. How can you handle multiple exceptions in Python\n",
        " - Be Specific: Handle specific exceptions first, as more general handlers (Exception) can catch all exceptions.\n",
        " - Avoid Overuse: Use exception handling for exceptional situations, not\n",
        "   as a control flow mechanism.\n",
        " - Log Errors: Log exceptions for debugging and monitoring purposes.\n",
        " - Use else and finally: Utilize these blocks for clean, structured error\n",
        "   handling and cleanup.\n",
        "8. What is the purpose of the with statement when handling files in Python\n",
        " - The with statement in Python is used to handle files and other resources in a clean and efficient manner. When used with file handling, it ensures that the file is properly opened, and most importantly, automatically closed after its usage, regardless of whether an exception occurs during file operations.\n",
        "9. What is the difference between multithreading and multiprocessing\n",
        " - The key differences between multithreading and multiprocessing lie in how they manage concurrency, utilize system resources, and handle tasks\n",
        "10. What are the advantages of using logging in a program\n",
        " - Using logging in a program is crucial for:\n",
        "\n",
        " - Debugging and troubleshooting,\n",
        " - Monitoring performance and system health,\n",
        " - Auditing and compliance,\n",
        " - Providing detailed insights into application behavior\n",
        "11. What is memory management in Python\n",
        " - Memory management in Python refers to how Python handles the allocation, use, and release of memory during the execution of a program. Python’s memory management system ensures that memory is used efficiently and that resources are cleaned up when they are no longer needed.\n",
        "12. What are the basic steps involved in exception handling in Python\n",
        " - Exception handling in Python involves a set of mechanisms used to deal with errors (exceptions) that occur during the execution of a program. Python provides a structured way to handle exceptions, allowing the program to continue execution or gracefully exit when unexpected events occur.\n",
        "13. Why is memory management important in Python\n",
        " - Memory management is a critical aspect of any programming language, including Python, because it directly affects the performance, stability, and efficiency of a program. In Python, the memory management system handles how memory is allocated, used, and deallocated during the execution of a program\n",
        "14. What is the role of try and except in exception handling\n",
        " - The try and except blocks are the core components of exception handling in Python. They allow you to manage errors (exceptions) that may occur during the execution of your program in a structured and controlled way.\n",
        "15. How does Python's garbage collection system work\n",
        " - Python's garbage collection system helps manage memory automatically, allowing developers to focus on logic rather than worrying about low-level memory management. It optimizes performance by minimizing unnecessary garbage collection and reducing memory fragmentation.\n",
        "16. What is the purpose of the else block in exception handling\n",
        " - The else block in exception handling is used to define code that should be executed only when no exception is raised in the try block. It is an optional component that allows you to handle successful execution separately from error-handling logic.\n",
        "17. What are the common logging levels in Python\n",
        " - The logging module's levels provide a way to categorize messages based on their importance or severity, from DEBUG (lowest severity) to CRITICAL (highest severity). By setting the logging level appropriately, you can control which messages are recorded and displayed, helping you to manage how much information is logged during the execution of your program.\n",
        "18. What is the difference between os.fork() and multiprocessing in Python\n",
        " - The key differences between os.fork() and the multiprocessing module in Python lie in their design, use cases, and behavior when creating child processes.\n",
        "19. What is the importance of closing a file in Python\n",
        " - Closing a file in Python is crucial for managing system resources, ensuring data integrity, and maintaining good coding practices\n",
        "20. What is the difference between file.read() and file.readline() in Python\n",
        " - Use file.read() when:\n",
        "\n",
        "You need to process the entire file at once or in large chunks.\n",
        "The file is small and can fit into memory comfortably.\n",
        "Use file.readline() when:\n",
        "\n",
        "You want to process the file line-by-line.\n",
        "The file is large, and you want to conserve memory.\n",
        "21. What is the logging module in Python used for\n",
        " - The logging module in Python is a built-in library used for tracking events that happen during a program's execution. It provides a flexible framework for emitting log messages from Python programs, which can help in debugging, monitoring, and troubleshooting applications.\n",
        "22. What is the os module in Python used for in file handling\n",
        " - The os module in Python is a built-in library that provides a way to interact with the operating system. When it comes to file handling, the os module offers a variety of functions to manage files and directories efficiently.\n",
        "23. What are the challenges associated with memory management in Python\n",
        " - Memory management in Python is largely automatic and handled by the Python memory manager, which includes mechanisms like reference counting and garbage collection. However, there are still challenges that developers may encounter when working with memory in Python.\n",
        "24. How do you raise an exception manually in Python\n",
        " - In Python, you can manually raise an exception using the raise statement. This is useful when you want to signal that an error condition has occurred or enforce certain conditions in your code.\n",
        "25. Why is it important to use multithreading in certain applications\n",
        " - Multithreading is important in certain applications because it enables programs to perform multiple tasks concurrently, improving responsiveness, resource utilization, and efficiency. However, its usefulness depends on the nature of the application and the tasks it needs to perform.\n",
        "\n",
        "\n",
        "PRACTICAL QUESTIONS\n",
        "1. How can you open a file for writing in Python and write a string to it\n"
      ],
      "metadata": {
        "id": "FC61WwaqQSuJ"
      }
    },
    {
      "cell_type": "code",
      "source": [
        "# Open the file in write mode\n",
        "with open(\"example.txt\", \"w\") as file:\n",
        "    # Write a string to the file\n",
        "    file.write(\"Hello, world!\")\n"
      ],
      "metadata": {
        "id": "ox6ZylxbCa6-"
      },
      "execution_count": 1,
      "outputs": []
    },
    {
      "cell_type": "markdown",
      "source": [
        "2. Write a Python program to read the contents of a file and print each line"
      ],
      "metadata": {
        "id": "auhsot2jCkfx"
      }
    },
    {
      "cell_type": "code",
      "source": [
        "# Open the file for reading\n",
        "with open(\"example.txt\", \"r\") as file:\n",
        "    # Iterate through each line in the file\n",
        "    for line in file:\n",
        "        # Print the line (strip removes extra newlines or spaces)\n",
        "        print(line.strip())\n"
      ],
      "metadata": {
        "id": "k4kW8ihhCwRq"
      },
      "execution_count": null,
      "outputs": []
    },
    {
      "cell_type": "markdown",
      "source": [
        "3. How would you handle a case where the file doesn't exist while trying to open it for reading"
      ],
      "metadata": {
        "id": "piCfScCXC2kl"
      }
    },
    {
      "cell_type": "code",
      "source": [
        "try:\n",
        "    # Attempt to open the file for reading\n",
        "    with open(\"example.txt\", \"r\") as file:\n",
        "        # Read and print each line\n",
        "        for line in file:\n",
        "            print(line.strip())\n",
        "except FileNotFoundError:\n",
        "    # Handle the case where the file does not exist\n",
        "    print(\"The file does not exist. Please check the file path.\")\n",
        "except IOError as e:\n",
        "    # Handle any other I/O errors (e.g., permission issues)\n",
        "    print(f\"An error occurred: {e}\")\n"
      ],
      "metadata": {
        "id": "WzfbJdMCC7cb"
      },
      "execution_count": null,
      "outputs": []
    },
    {
      "cell_type": "markdown",
      "source": [
        "4 Write a Python script that reads from one file and writes its content to another file"
      ],
      "metadata": {
        "id": "lW7ALlYtDA39"
      }
    },
    {
      "cell_type": "code",
      "source": [
        "# Specify the source and destination file paths\n",
        "source_file = \"source.txt\"\n",
        "destination_file = \"destination.txt\"\n",
        "\n",
        "try:\n",
        "    # Open the source file for reading\n",
        "    with open(source_file, \"r\") as src:\n",
        "        # Open the destination file for writing\n",
        "        with open(destination_file, \"w\") as dest:\n",
        "            # Read content from the source file and write it to the destination file\n",
        "            content = src.read()  # Read all content from the source file\n",
        "            dest.write(content)   # Write the content to the destination file\n",
        "\n",
        "    print(f\"Content from '{source_file}' has been copied to '{destination_file}'.\")\n",
        "\n",
        "except FileNotFoundError:\n",
        "    pr\n"
      ],
      "metadata": {
        "id": "FFU8bykHDEdD"
      },
      "execution_count": null,
      "outputs": []
    },
    {
      "cell_type": "markdown",
      "source": [
        "5. How would you catch and handle division by zero error in Python"
      ],
      "metadata": {
        "id": "UscHH5unDJlX"
      }
    },
    {
      "cell_type": "code",
      "source": [
        "try:\n",
        "    # Attempt division\n",
        "    numerator = 10\n",
        "    denominator = 0\n",
        "    result = numerator / denominator\n",
        "    print(\"Result:\", result)\n",
        "\n",
        "except ZeroDivisionError:\n",
        "    # Handle the division by zero error\n",
        "    print(\"Error: Division by zero is not allowed.\")\n"
      ],
      "metadata": {
        "id": "KYJpSIdpDPN0"
      },
      "execution_count": null,
      "outputs": []
    },
    {
      "cell_type": "markdown",
      "source": [
        "6. Write a Python program that logs an error message to a log file when a division by zero exception occurs"
      ],
      "metadata": {
        "id": "j3H8iwTiDJsT"
      }
    },
    {
      "cell_type": "code",
      "source": [
        "import logging\n",
        "\n",
        "# Configure the logging module\n",
        "logging.basicConfig(\n",
        "    filename='error_log.txt',      # Log file where the errors will be saved\n",
        "    level=logging.ERROR,           # Only log errors and higher severity messages\n",
        "    format='%(asctime)s - %(levelname)s - %(message)s',  # Log message format\n",
        ")\n",
        "\n",
        "try:\n",
        "    # Example division\n",
        "    numerator = 10\n",
        "    denominator = 0\n",
        "    result = numerator / denominator\n",
        "    print(\"Result:\", result)\n",
        "\n",
        "except ZeroDivisionError as e:\n",
        "    # Log the error to the file\n",
        "    logging.error(\"Division by zero error occurred: %s\", e)\n",
        "    print(\"Error: Division by zero is not allowed.\")\n"
      ],
      "metadata": {
        "id": "MX9wcKgmDenZ"
      },
      "execution_count": null,
      "outputs": []
    },
    {
      "cell_type": "markdown",
      "source": [
        "7. How do you log information at different levels (INFO, ERROR, WARNING) in Python using the logging module"
      ],
      "metadata": {
        "id": "0V75oRNtDnws"
      }
    },
    {
      "cell_type": "code",
      "source": [
        "import logging\n",
        "\n",
        "# Configure logging settings\n",
        "logging.basicConfig(\n",
        "    filename='app_log.txt',              # Log messages will be written to this file\n",
        "    level=logging.DEBUG,                 # Set the lowest level to DEBUG (capture all levels)\n",
        "    format='%(asctime)s - %(levelname)s - %(message)s',  # Log format includes timestamp, level, and message\n",
        ")\n",
        "\n",
        "# Log messages at different levels\n",
        "logging.debug(\"This is a debug message, useful for diagnosing problems.\")\n",
        "logging.info(\"This is an info message, indicating normal operation.\")\n",
        "logging.warning(\"This is a warning message, something might go wrong.\")\n",
        "logging.error(\"This is an error message, something went wrong.\")\n",
        "logging.critical(\"This is a critical message, the program might stop.\")\n",
        "\n",
        "print(\"Log messages have been written to 'app_log.txt'.\")\n"
      ],
      "metadata": {
        "id": "M1nHnJ3gDpna"
      },
      "execution_count": null,
      "outputs": []
    },
    {
      "cell_type": "markdown",
      "source": [
        "8. Write a program to handle a file opening error using exception handling"
      ],
      "metadata": {
        "id": "gP1kTPw_EAQq"
      }
    },
    {
      "cell_type": "code",
      "source": [
        "try:\n",
        "    # Try to open a file\n",
        "    filename = \"example.txt\"\n",
        "    with open(filename, \"r\") as file:\n",
        "        # Read the contents of the file and print them\n",
        "        content = file.read()\n",
        "        print(content)\n",
        "\n",
        "except FileNotFoundError:\n",
        "    # This block handles the case when the file is not found\n",
        "    print(f\"Error: The file '{filename}' was not found.\")\n",
        "\n",
        "except IOError as e:\n",
        "    # This block handles other input/output errors (e.g., permission issues)\n",
        "    print(f\"Error: An I/O error occurred while opening the file: {e}\")\n",
        "\n",
        "except Exception as e:\n",
        "    # Catch any other exceptions that were not specifically handled\n",
        "    print(f\"An unexpected erro\n"
      ],
      "metadata": {
        "id": "U3QIxNNxEI_0"
      },
      "execution_count": null,
      "outputs": []
    },
    {
      "cell_type": "markdown",
      "source": [
        "9. How can you read a file line by line and store its content in a list in Python"
      ],
      "metadata": {
        "id": "0oByzrK9EKRv"
      }
    },
    {
      "cell_type": "code",
      "source": [
        "# Initialize an empty list to store the lines\n",
        "lines_list = []\n",
        "\n",
        "try:\n",
        "    # Open the file for reading\n",
        "    with open(\"example.txt\", \"r\") as file:\n",
        "        # Iterate through each line in the file\n",
        "        for line in file:\n",
        "            # Remove any trailing newline characters and append the line to the list\n",
        "            lines_list.append(line.strip())\n",
        "\n",
        "    # Print the list of lines\n",
        "    print(lines_list)\n",
        "\n",
        "except FileNotFoundError:\n",
        "    print(\"The file does not exist.\")\n",
        "except IOError as e:\n",
        "    print(f\"An error occurred while reading the file: {e}\")\n"
      ],
      "metadata": {
        "id": "drcLAJjIEOql"
      },
      "execution_count": null,
      "outputs": []
    },
    {
      "cell_type": "markdown",
      "source": [
        "10. How can you append data to an existing file in Python"
      ],
      "metadata": {
        "id": "t6pRkF3hEShT"
      }
    },
    {
      "cell_type": "code",
      "source": [
        "# Data to append to the file\n",
        "data_to_append = \"This is a new line of text to append.\\n\"\n",
        "\n",
        "try:\n",
        "    # Open the file in append mode\n",
        "    with open(\"example.txt\", \"a\") as file:\n",
        "        # Write the data to the file\n",
        "        file.write(data_to_append)\n",
        "\n",
        "    print(\"Data has been successfully appended to the file.\")\n",
        "\n",
        "except IOError as e:\n",
        "    print(f\"An error occurred while appending to the file: {e}\")\n"
      ],
      "metadata": {
        "id": "9-CyozFwEaOa"
      },
      "execution_count": null,
      "outputs": []
    },
    {
      "cell_type": "markdown",
      "source": [
        "11. Write a Python program that uses a try-except block to handle an error when attempting to access a dictionary key that doesn't exist"
      ],
      "metadata": {
        "id": "Sp7Qjg8gEbZo"
      }
    },
    {
      "cell_type": "code",
      "source": [
        "# Sample dictionary\n",
        "my_dict = {\"name\": \"Alice\", \"age\": 25, \"city\": \"New York\"}\n",
        "\n",
        "try:\n",
        "    # Attempt to access a key that doesn't exist\n",
        "    key = \"address\"\n",
        "    value = my_dict[key]\n",
        "    print(f\"The value for the key '{key}' is: {value}\")\n",
        "\n",
        "except KeyError:\n",
        "    # Handle the case where the key does not exist in the dictionary\n",
        "    print(f\"Error: The key '{key}' does not exist in the dictionary.\")\n"
      ],
      "metadata": {
        "id": "QZU_MUXvEnWh"
      },
      "execution_count": null,
      "outputs": []
    },
    {
      "cell_type": "markdown",
      "source": [
        "12. Write a program that demonstrates using multiple except blocks to handle different types of exceptions"
      ],
      "metadata": {
        "id": "c49u5hEtEr9A"
      }
    },
    {
      "cell_type": "code",
      "source": [
        "try:\n",
        "    # Prompt the user for two numbers and perform division\n",
        "    num1 = int(input(\"Enter the first number: \"))\n",
        "    num2 = int(input(\"Enter the second number: \"))\n",
        "\n",
        "    # Attempt division\n",
        "    result = num1 / num2\n",
        "    print(f\"The result of {num1} divided by {num2} is: {result}\")\n",
        "\n",
        "except ValueError:\n",
        "    # Handle invalid input (e.g., if user enters a non-integer)\n",
        "    print(\"Error: Please enter valid integers.\")\n",
        "\n",
        "except ZeroDivisionError:\n",
        "    # Handle division by zero error\n",
        "    print(\"Error: Division by zero is not allowed.\")\n",
        "\n",
        "except Exception as e:\n",
        "    # Catch any other unexpected errors\n",
        "    print(f\"An unexpected error occurred: {e}\")\n"
      ],
      "metadata": {
        "id": "QXwYJjfrE1u_"
      },
      "execution_count": null,
      "outputs": []
    },
    {
      "cell_type": "markdown",
      "source": [
        "13. How would you check if a file exists before attempting to read it in Python"
      ],
      "metadata": {
        "id": "QAzGHY_vE3dc"
      }
    },
    {
      "cell_type": "code",
      "source": [
        "import os\n",
        "\n",
        "# Specify the file path\n",
        "file_path = \"example.txt\"\n",
        "\n",
        "# Check if the file exists\n",
        "if os.path.exists(file_path):\n",
        "    # Open the file and read its contents\n",
        "    with open(file_path, \"r\") as file:\n",
        "        content = file.read()\n",
        "        print(content)\n",
        "else:\n",
        "    print(f\"Error: The file '{file_path}' does not exist.\")\n"
      ],
      "metadata": {
        "id": "Gxu4Xkh4FYpJ"
      },
      "execution_count": null,
      "outputs": []
    },
    {
      "cell_type": "markdown",
      "source": [
        "14. Write a program that uses the logging module to log both informational and error messages"
      ],
      "metadata": {
        "id": "9Vz_wUGcFgn3"
      }
    },
    {
      "cell_type": "code",
      "source": [
        "import logging\n",
        "\n",
        "# Configure the logging module to log messages to a file\n",
        "logging.basicConfig(\n",
        "    filename=\"app.log\",   # The log file where messages will be stored\n",
        "    level=logging.DEBUG,   # The lowest level of messages to capture\n",
        "    format=\"%(asctime)s - %(levelname)s - %(message)s\",  # Format of the log messages\n",
        ")\n",
        "\n",
        "# Log an informational message\n",
        "logging.info(\"This is an informational message.\")\n",
        "\n",
        "# Log an error message\n",
        "try:\n",
        "    result = 10 / 0  # This will cause a division by zero error\n",
        "except ZeroDivisionError as e:\n",
        "    logging.error(f\"An error occurred: {e}\")\n",
        "\n",
        "# Log a warning message\n",
        "logging.warning(\"This is a warning message.\")\n",
        "\n",
        "# Log a debug message (useful for troubleshooting)\n",
        "logging.debug(\"This is a debug message, typically for development or troubleshooting.\")\n"
      ],
      "metadata": {
        "id": "wF_SWTb2Fofn"
      },
      "execution_count": null,
      "outputs": []
    },
    {
      "cell_type": "markdown",
      "source": [
        "15. Write a Python program that prints the content of a file and handles the case when the file is empty"
      ],
      "metadata": {
        "id": "ut6xWQ81F39H"
      }
    },
    {
      "cell_type": "code",
      "source": [
        "def print_file_content(file_path):\n",
        "    try:\n",
        "        # Open the file for reading\n",
        "        with open(file_path, \"r\") as file:\n",
        "            content = file.read()  # Read the entire file content\n",
        "\n",
        "            # Check if the file is empty\n",
        "            if content.strip() == \"\":  # .strip() removes leading/trailing whitespace\n",
        "                print(\"The file is empty.\")\n",
        "            else:\n",
        "                print(\"File content:\")\n",
        "                print(content)  # Print the file content\n",
        "\n",
        "    except FileNotFoundError:\n",
        "        print(f\"Error: The file '{file_path}' does not exist.\")\n",
        "    except IOError as e:\n",
        "        print(f\"Error: An I/O error occurred while opening the file: {e}\")\n",
        "\n",
        "# Example usage\n",
        "file_path = \"example.txt\"  # Specif\n"
      ],
      "metadata": {
        "id": "uGYoVaSwGMkS"
      },
      "execution_count": null,
      "outputs": []
    },
    {
      "cell_type": "markdown",
      "source": [
        "16. Demonstrate how to use memory profiling to check the memory usage of a small program"
      ],
      "metadata": {
        "id": "JVRTVw1LGaEq"
      }
    },
    {
      "cell_type": "code",
      "source": [
        "from memory_profiler import profile\n",
        "\n",
        "@profile\n",
        "def my_function():\n",
        "    # Simulate some memory-intensive operations\n",
        "    my_list = [i for i in range(10000)]  # Create a list of 10,000 integers\n",
        "    print(\"List created.\")\n",
        "    my_list2 = [i * 2 for i in my_list]  # Create another list by doubling the values\n",
        "    print(\"Second list created.\")\n",
        "    del my_list  # Delete the first list to free up memory\n",
        "    print(\"First list deleted.\")\n",
        "    return my_list2\n",
        "\n",
        "if __name__ == \"__main__\":\n",
        "    my_function()\n"
      ],
      "metadata": {
        "id": "vyC-jrS1Ggv7"
      },
      "execution_count": null,
      "outputs": []
    },
    {
      "cell_type": "markdown",
      "source": [
        "17. Write a Python program to create and write a list of numbers to a file, one number per line"
      ],
      "metadata": {
        "id": "lLoUVPKLGukq"
      }
    },
    {
      "cell_type": "code",
      "source": [
        "# List of numbers\n",
        "numbers = [1, 2, 3, 4, 5, 6, 7, 8, 9, 10]\n",
        "\n",
        "# Specify the file path\n",
        "file_path = \"numbers.txt\"\n",
        "\n",
        "# Open the file in write mode\n",
        "with open(file_path, \"w\") as file:\n",
        "    for number in numbers:\n",
        "        file.write(f\"{number}\\n\")  # Write each number followed by a newline\n",
        "\n",
        "print(f\"List of numbers has been written to {file_path}\")\n"
      ],
      "metadata": {
        "id": "x7yZAKd_GzVT"
      },
      "execution_count": null,
      "outputs": []
    },
    {
      "cell_type": "markdown",
      "source": [
        "18. How would you implement a basic logging setup that logs to a file with rotation after 1MB"
      ],
      "metadata": {
        "id": "C9nOggulG5MU"
      }
    },
    {
      "cell_type": "code",
      "source": [
        "import logging\n",
        "from logging.handlers import RotatingFileHandler\n",
        "\n",
        "# Create a logger\n",
        "logger = logging.getLogger(\"MyLogger\")\n",
        "logger.setLevel(logging.DEBUG)  # Set the logging level to DEBUG (can be adjusted)\n",
        "\n",
        "# Create a rotating file handler\n",
        "log_file = \"app.log\"\n",
        "handler = RotatingFileHandler(log_file, maxBytes=1e6, backupCount=3)  # 1 MB = 1e6 bytes, keep 3 backups\n",
        "\n",
        "# Create a formatter\n",
        "formatter = logging.Formatter('%(asctime)s - %(levelname)s - %(message)s')\n",
        "\n",
        "# Attach the formatter to the handler\n",
        "handler.setFormatter(formatter)\n",
        "\n",
        "# Add the handler to the logger\n",
        "logger.addHandler(handler)\n",
        "\n",
        "# Example logging messages\n",
        "logger.debug(\"This is a debug message.\")\n",
        "logger.info(\"This is an info message.\")\n",
        "logger.warning(\"This is a warning message.\")\n",
        "logger.error(\"This is an error message.\")\n",
        "logger.critical(\"This is a critical message.\")\n"
      ],
      "metadata": {
        "id": "OhNQ3g25G9y2"
      },
      "execution_count": null,
      "outputs": []
    },
    {
      "cell_type": "markdown",
      "source": [
        "19. Write a program that handles both IndexError and KeyError using a try-except block"
      ],
      "metadata": {
        "id": "mmavP929HRza"
      }
    },
    {
      "cell_type": "code",
      "source": [
        "# Sample data\n",
        "my_list = [1, 2, 3]\n",
        "my_dict = {'a': 1, 'b': 2, 'c': 3}\n",
        "\n",
        "# Try to access an index in the list and a key in the dictionary\n",
        "try:\n",
        "    # This will raise IndexError (list index out of range)\n",
        "    print(my_list[5])\n",
        "\n",
        "    # This will raise KeyError (key 'd' not found in the dictionary)\n",
        "    print(my_dict['d'])\n",
        "\n",
        "except IndexError as e:\n",
        "    print(f\"IndexError: {e} - Invalid index accessed in the list.\")\n",
        "\n",
        "except KeyError as e:\n",
        "    print(f\"KeyError: {e} - Key not found in the dictionary.\")\n"
      ],
      "metadata": {
        "id": "Bbp6uTNdHV-x"
      },
      "execution_count": null,
      "outputs": []
    },
    {
      "cell_type": "markdown",
      "source": [
        "20. How would you open a file and read its contents using a context manager in Python"
      ],
      "metadata": {
        "id": "zjUA_171HbdR"
      }
    },
    {
      "cell_type": "code",
      "source": [
        "# Define the file path\n",
        "file_path = \"example.txt\"\n",
        "\n",
        "# Use a context manager to open and read the file\n",
        "with open(file_path, \"r\") as file:\n",
        "    # Read the entire content of the file\n",
        "    content = file.read()\n",
        "\n",
        "    # Print the contents of the file\n",
        "    print(content)\n"
      ],
      "metadata": {
        "id": "00dBYN5UHfcT"
      },
      "execution_count": null,
      "outputs": []
    },
    {
      "cell_type": "markdown",
      "source": [
        "21. Write a Python program that reads a file and prints the number of occurrences of a specific word"
      ],
      "metadata": {
        "id": "cx5Lf10NHnNr"
      }
    },
    {
      "cell_type": "code",
      "source": [
        "# Function to count occurrences of a word in a file\n",
        "def count_word_occurrences(file_path, word):\n",
        "    try:\n",
        "        # Open the file for reading\n",
        "        with open(file_path, \"r\") as file:\n",
        "            # Initialize the word count\n",
        "            word_count = 0\n",
        "\n",
        "            # Read the file line by line\n",
        "            for line in file:\n",
        "                # Count occurrences of the word in each line\n",
        "                word_count += line.lower().split().count(word.lower())  # Using .lower() for case-insensitive matching\n",
        "\n",
        "            return word\n"
      ],
      "metadata": {
        "id": "qzyZXn04Hp0q"
      },
      "execution_count": null,
      "outputs": []
    },
    {
      "cell_type": "markdown",
      "source": [
        "22. How can you check if a file is empty before attempting to read its contents"
      ],
      "metadata": {
        "id": "L_FhqRs1HuXY"
      }
    },
    {
      "cell_type": "code",
      "source": [
        "import os\n",
        "\n",
        "# Function to check if the file is empty\n",
        "def is_file_empty(file_path):\n",
        "    # Check if the file size is 0\n",
        "    return os.stat(file_path).st_size == 0\n",
        "\n",
        "# Example usage\n",
        "file_path = \"example.txt\"  # Specify the file path\n",
        "\n",
        "# Check if the file is empty\n",
        "if is_file_empty(file_path):\n",
        "    print(f\"The file '{file_path}' is empty.\")\n",
        "else:\n",
        "    # File is not empty, open and read the file\n",
        "    with open(file_path, \"r\") as file:\n",
        "        content = file.read()\n",
        "        p\n"
      ],
      "metadata": {
        "id": "IAcB_2a1H3G0"
      },
      "execution_count": null,
      "outputs": []
    },
    {
      "cell_type": "markdown",
      "source": [
        "23. Write a Python program that writes to a log file when an error occurs during file handling."
      ],
      "metadata": {
        "id": "35orx0QjH4Wf"
      }
    },
    {
      "cell_type": "code",
      "source": [
        "import logging\n",
        "\n",
        "# Configure the logging setup\n",
        "logging.basicConfig(\n",
        "    filename='file_handling_errors.log',  # Log file name\n",
        "    level=logging.ERROR,  # Log only ERROR and above levels\n",
        "    format='%(asctime)s - %(levelname)s - %(message)s'  # Log format\n",
        ")\n",
        "\n",
        "# Function to read from a file and log any errors\n",
        "def read_file(file_path):\n",
        "    try:\n",
        "        # Attempt to open and read the file\n",
        "        with open(file_path, 'r') as file:\n",
        "            content = file.read()\n",
        "            print(content)\n",
        "\n",
        "    except FileNotFoundError as e:\n",
        "        logging.error(f\"FileNotFoundError: {e} - File '{file_path}' not f\n"
      ],
      "metadata": {
        "id": "sjVa4I7wH9tN"
      },
      "execution_count": null,
      "outputs": []
    }
  ]
}